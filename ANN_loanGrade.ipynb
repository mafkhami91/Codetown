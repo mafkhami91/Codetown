{
  "nbformat": 4,
  "nbformat_minor": 0,
  "metadata": {
    "colab": {
      "name": "ANN_loanGrade.ipynb",
      "provenance": [],
      "toc_visible": true
    },
    "kernelspec": {
      "display_name": "Python 3",
      "language": "python",
      "name": "python3"
    },
    "language_info": {
      "codemirror_mode": {
        "name": "ipython",
        "version": 3
      },
      "file_extension": ".py",
      "mimetype": "text/x-python",
      "name": "python",
      "nbconvert_exporter": "python",
      "pygments_lexer": "ipython3",
      "version": "3.7.1"
    }
  },
  "cells": [
    {
      "cell_type": "code",
      "metadata": {
        "colab_type": "code",
        "id": "8zyZjngbsZgw",
        "colab": {}
      },
      "source": [
        "# pwd"
      ],
      "execution_count": null,
      "outputs": []
    },
    {
      "cell_type": "code",
      "metadata": {
        "id": "ZKbYVrozTI8j",
        "colab_type": "code",
        "colab": {
          "base_uri": "https://localhost:8080/",
          "height": 680
        },
        "outputId": "6ea4d71b-c66f-4bc2-8d32-8b275e644b06"
      },
      "source": [
        "!pip install tensorflow"
      ],
      "execution_count": 1,
      "outputs": [
        {
          "output_type": "stream",
          "text": [
            "Requirement already satisfied: tensorflow in /usr/local/lib/python3.6/dist-packages (2.2.0)\n",
            "Requirement already satisfied: termcolor>=1.1.0 in /usr/local/lib/python3.6/dist-packages (from tensorflow) (1.1.0)\n",
            "Requirement already satisfied: tensorboard<2.3.0,>=2.2.0 in /usr/local/lib/python3.6/dist-packages (from tensorflow) (2.2.2)\n",
            "Requirement already satisfied: grpcio>=1.8.6 in /usr/local/lib/python3.6/dist-packages (from tensorflow) (1.30.0)\n",
            "Requirement already satisfied: h5py<2.11.0,>=2.10.0 in /usr/local/lib/python3.6/dist-packages (from tensorflow) (2.10.0)\n",
            "Requirement already satisfied: wrapt>=1.11.1 in /usr/local/lib/python3.6/dist-packages (from tensorflow) (1.12.1)\n",
            "Requirement already satisfied: gast==0.3.3 in /usr/local/lib/python3.6/dist-packages (from tensorflow) (0.3.3)\n",
            "Requirement already satisfied: astunparse==1.6.3 in /usr/local/lib/python3.6/dist-packages (from tensorflow) (1.6.3)\n",
            "Requirement already satisfied: numpy<2.0,>=1.16.0 in /usr/local/lib/python3.6/dist-packages (from tensorflow) (1.18.5)\n",
            "Requirement already satisfied: tensorflow-estimator<2.3.0,>=2.2.0 in /usr/local/lib/python3.6/dist-packages (from tensorflow) (2.2.0)\n",
            "Requirement already satisfied: scipy==1.4.1; python_version >= \"3\" in /usr/local/lib/python3.6/dist-packages (from tensorflow) (1.4.1)\n",
            "Requirement already satisfied: wheel>=0.26; python_version >= \"3\" in /usr/local/lib/python3.6/dist-packages (from tensorflow) (0.34.2)\n",
            "Requirement already satisfied: google-pasta>=0.1.8 in /usr/local/lib/python3.6/dist-packages (from tensorflow) (0.2.0)\n",
            "Requirement already satisfied: opt-einsum>=2.3.2 in /usr/local/lib/python3.6/dist-packages (from tensorflow) (3.2.1)\n",
            "Requirement already satisfied: six>=1.12.0 in /usr/local/lib/python3.6/dist-packages (from tensorflow) (1.12.0)\n",
            "Requirement already satisfied: keras-preprocessing>=1.1.0 in /usr/local/lib/python3.6/dist-packages (from tensorflow) (1.1.2)\n",
            "Requirement already satisfied: protobuf>=3.8.0 in /usr/local/lib/python3.6/dist-packages (from tensorflow) (3.12.2)\n",
            "Requirement already satisfied: absl-py>=0.7.0 in /usr/local/lib/python3.6/dist-packages (from tensorflow) (0.9.0)\n",
            "Requirement already satisfied: markdown>=2.6.8 in /usr/local/lib/python3.6/dist-packages (from tensorboard<2.3.0,>=2.2.0->tensorflow) (3.2.2)\n",
            "Requirement already satisfied: werkzeug>=0.11.15 in /usr/local/lib/python3.6/dist-packages (from tensorboard<2.3.0,>=2.2.0->tensorflow) (1.0.1)\n",
            "Requirement already satisfied: google-auth-oauthlib<0.5,>=0.4.1 in /usr/local/lib/python3.6/dist-packages (from tensorboard<2.3.0,>=2.2.0->tensorflow) (0.4.1)\n",
            "Requirement already satisfied: google-auth<2,>=1.6.3 in /usr/local/lib/python3.6/dist-packages (from tensorboard<2.3.0,>=2.2.0->tensorflow) (1.17.2)\n",
            "Requirement already satisfied: setuptools>=41.0.0 in /usr/local/lib/python3.6/dist-packages (from tensorboard<2.3.0,>=2.2.0->tensorflow) (49.1.0)\n",
            "Requirement already satisfied: requests<3,>=2.21.0 in /usr/local/lib/python3.6/dist-packages (from tensorboard<2.3.0,>=2.2.0->tensorflow) (2.23.0)\n",
            "Requirement already satisfied: tensorboard-plugin-wit>=1.6.0 in /usr/local/lib/python3.6/dist-packages (from tensorboard<2.3.0,>=2.2.0->tensorflow) (1.7.0)\n",
            "Requirement already satisfied: importlib-metadata; python_version < \"3.8\" in /usr/local/lib/python3.6/dist-packages (from markdown>=2.6.8->tensorboard<2.3.0,>=2.2.0->tensorflow) (1.7.0)\n",
            "Requirement already satisfied: requests-oauthlib>=0.7.0 in /usr/local/lib/python3.6/dist-packages (from google-auth-oauthlib<0.5,>=0.4.1->tensorboard<2.3.0,>=2.2.0->tensorflow) (1.3.0)\n",
            "Requirement already satisfied: cachetools<5.0,>=2.0.0 in /usr/local/lib/python3.6/dist-packages (from google-auth<2,>=1.6.3->tensorboard<2.3.0,>=2.2.0->tensorflow) (4.1.1)\n",
            "Requirement already satisfied: rsa<5,>=3.1.4; python_version >= \"3\" in /usr/local/lib/python3.6/dist-packages (from google-auth<2,>=1.6.3->tensorboard<2.3.0,>=2.2.0->tensorflow) (4.6)\n",
            "Requirement already satisfied: pyasn1-modules>=0.2.1 in /usr/local/lib/python3.6/dist-packages (from google-auth<2,>=1.6.3->tensorboard<2.3.0,>=2.2.0->tensorflow) (0.2.8)\n",
            "Requirement already satisfied: urllib3!=1.25.0,!=1.25.1,<1.26,>=1.21.1 in /usr/local/lib/python3.6/dist-packages (from requests<3,>=2.21.0->tensorboard<2.3.0,>=2.2.0->tensorflow) (1.24.3)\n",
            "Requirement already satisfied: chardet<4,>=3.0.2 in /usr/local/lib/python3.6/dist-packages (from requests<3,>=2.21.0->tensorboard<2.3.0,>=2.2.0->tensorflow) (3.0.4)\n",
            "Requirement already satisfied: certifi>=2017.4.17 in /usr/local/lib/python3.6/dist-packages (from requests<3,>=2.21.0->tensorboard<2.3.0,>=2.2.0->tensorflow) (2020.6.20)\n",
            "Requirement already satisfied: idna<3,>=2.5 in /usr/local/lib/python3.6/dist-packages (from requests<3,>=2.21.0->tensorboard<2.3.0,>=2.2.0->tensorflow) (2.10)\n",
            "Requirement already satisfied: zipp>=0.5 in /usr/local/lib/python3.6/dist-packages (from importlib-metadata; python_version < \"3.8\"->markdown>=2.6.8->tensorboard<2.3.0,>=2.2.0->tensorflow) (3.1.0)\n",
            "Requirement already satisfied: oauthlib>=3.0.0 in /usr/local/lib/python3.6/dist-packages (from requests-oauthlib>=0.7.0->google-auth-oauthlib<0.5,>=0.4.1->tensorboard<2.3.0,>=2.2.0->tensorflow) (3.1.0)\n",
            "Requirement already satisfied: pyasn1>=0.1.3 in /usr/local/lib/python3.6/dist-packages (from rsa<5,>=3.1.4; python_version >= \"3\"->google-auth<2,>=1.6.3->tensorboard<2.3.0,>=2.2.0->tensorflow) (0.4.8)\n"
          ],
          "name": "stdout"
        }
      ]
    },
    {
      "cell_type": "markdown",
      "metadata": {
        "colab_type": "text",
        "id": "9i1_a-Aqsj9J"
      },
      "source": [
        "Importing the libraries"
      ]
    },
    {
      "cell_type": "code",
      "metadata": {
        "colab_type": "code",
        "id": "6MJTdus3sZhE",
        "colab": {}
      },
      "source": [
        "import pandas as pd\n",
        "import numpy as np \n",
        "import matplotlib.pyplot as plt"
      ],
      "execution_count": 2,
      "outputs": []
    },
    {
      "cell_type": "code",
      "metadata": {
        "colab_type": "code",
        "id": "LMgtbh3KsZhT",
        "colab": {}
      },
      "source": [
        "# loan_data = pd.read_csv(\"/Users/mahdiafkhami/Desktop/Purdue/Spring2019/MGMT/Project/RejectStats_2018Q1.csv\", skiprows=1, low_memory=False)"
      ],
      "execution_count": null,
      "outputs": []
    },
    {
      "cell_type": "code",
      "metadata": {
        "colab_type": "code",
        "id": "IitoZzrcsZhg",
        "colab": {}
      },
      "source": [
        "# print(loan_data)"
      ],
      "execution_count": null,
      "outputs": []
    },
    {
      "cell_type": "code",
      "metadata": {
        "colab_type": "code",
        "id": "420-b4MLsZhp",
        "colab": {}
      },
      "source": [
        "# loan_data.shape"
      ],
      "execution_count": null,
      "outputs": []
    },
    {
      "cell_type": "code",
      "metadata": {
        "colab_type": "code",
        "id": "RwabnDspsZh6",
        "colab": {}
      },
      "source": [
        "# loan_data.columns"
      ],
      "execution_count": null,
      "outputs": []
    },
    {
      "cell_type": "code",
      "metadata": {
        "colab_type": "code",
        "id": "w346bxcXsZih",
        "colab": {}
      },
      "source": [
        "# dd= app.rename_axis('States').reset_index(name='Applications')\n",
        "# print (dd)"
      ],
      "execution_count": null,
      "outputs": []
    },
    {
      "cell_type": "code",
      "metadata": {
        "colab_type": "code",
        "id": "zT78IteBsZio",
        "colab": {}
      },
      "source": [
        "# gb = df.groupby(\"State\")"
      ],
      "execution_count": null,
      "outputs": []
    },
    {
      "cell_type": "code",
      "metadata": {
        "colab_type": "code",
        "id": "vw56u34KsZiv",
        "colab": {}
      },
      "source": [
        "# gb.sum()"
      ],
      "execution_count": null,
      "outputs": []
    },
    {
      "cell_type": "code",
      "metadata": {
        "colab_type": "code",
        "id": "kdIIB2rosZi1",
        "colab": {}
      },
      "source": [
        ""
      ],
      "execution_count": null,
      "outputs": []
    },
    {
      "cell_type": "code",
      "metadata": {
        "colab_type": "code",
        "id": "B7V0d-x2sZi6",
        "colab": {}
      },
      "source": [
        "Grade = pd.read_csv(\"/content/LoanStats_2018Q1.csv\", skiprows=1, low_memory=False)"
      ],
      "execution_count": 3,
      "outputs": []
    },
    {
      "cell_type": "code",
      "metadata": {
        "colab_type": "code",
        "id": "700YPsVWsZjA",
        "colab": {
          "base_uri": "https://localhost:8080/",
          "height": 34
        },
        "outputId": "31d00122-1fb8-482a-a25a-62aec46d2e81"
      },
      "source": [
        "Grade.shape"
      ],
      "execution_count": 4,
      "outputs": [
        {
          "output_type": "execute_result",
          "data": {
            "text/plain": [
              "(107866, 145)"
            ]
          },
          "metadata": {
            "tags": []
          },
          "execution_count": 4
        }
      ]
    },
    {
      "cell_type": "code",
      "metadata": {
        "colab_type": "code",
        "id": "hLw06u7a1JUF",
        "colab": {
          "base_uri": "https://localhost:8080/",
          "height": 156
        },
        "outputId": "bce76de1-8438-4ecb-f187-08867f521149"
      },
      "source": [
        "Grade.columns"
      ],
      "execution_count": 5,
      "outputs": [
        {
          "output_type": "execute_result",
          "data": {
            "text/plain": [
              "Index(['id', 'member_id', 'loan_amnt', 'funded_amnt', 'funded_amnt_inv',\n",
              "       'term', 'int_rate', 'installment', 'grade', 'sub_grade',\n",
              "       ...\n",
              "       'hardship_payoff_balance_amount', 'hardship_last_payment_amount',\n",
              "       'disbursement_method', 'debt_settlement_flag',\n",
              "       'debt_settlement_flag_date', 'settlement_status', 'settlement_date',\n",
              "       'settlement_amount', 'settlement_percentage', 'settlement_term'],\n",
              "      dtype='object', length=145)"
            ]
          },
          "metadata": {
            "tags": []
          },
          "execution_count": 5
        }
      ]
    },
    {
      "cell_type": "code",
      "metadata": {
        "colab_type": "code",
        "id": "-hXuTF8vsZjK",
        "colab": {}
      },
      "source": [
        "Grade = Grade[[\"loan_amnt\",\"term\", \"int_rate\",\"emp_length\",\"annual_inc\",\"loan_status\",\"application_type\",\"home_ownership\",\"grade\"]]"
      ],
      "execution_count": 6,
      "outputs": []
    },
    {
      "cell_type": "code",
      "metadata": {
        "colab_type": "code",
        "id": "fkT97gvLsZjO",
        "colab": {
          "base_uri": "https://localhost:8080/",
          "height": 206
        },
        "outputId": "0b975778-f2c8-4180-bfc3-cd01fc2e3d58"
      },
      "source": [
        "Grade.head()"
      ],
      "execution_count": 7,
      "outputs": [
        {
          "output_type": "execute_result",
          "data": {
            "text/html": [
              "<div>\n",
              "<style scoped>\n",
              "    .dataframe tbody tr th:only-of-type {\n",
              "        vertical-align: middle;\n",
              "    }\n",
              "\n",
              "    .dataframe tbody tr th {\n",
              "        vertical-align: top;\n",
              "    }\n",
              "\n",
              "    .dataframe thead th {\n",
              "        text-align: right;\n",
              "    }\n",
              "</style>\n",
              "<table border=\"1\" class=\"dataframe\">\n",
              "  <thead>\n",
              "    <tr style=\"text-align: right;\">\n",
              "      <th></th>\n",
              "      <th>loan_amnt</th>\n",
              "      <th>term</th>\n",
              "      <th>int_rate</th>\n",
              "      <th>emp_length</th>\n",
              "      <th>annual_inc</th>\n",
              "      <th>loan_status</th>\n",
              "      <th>application_type</th>\n",
              "      <th>home_ownership</th>\n",
              "      <th>grade</th>\n",
              "    </tr>\n",
              "  </thead>\n",
              "  <tbody>\n",
              "    <tr>\n",
              "      <th>0</th>\n",
              "      <td>30000.0</td>\n",
              "      <td>36 months</td>\n",
              "      <td>7.34%</td>\n",
              "      <td>3 years</td>\n",
              "      <td>95000.0</td>\n",
              "      <td>Fully Paid</td>\n",
              "      <td>Individual</td>\n",
              "      <td>OWN</td>\n",
              "      <td>A</td>\n",
              "    </tr>\n",
              "    <tr>\n",
              "      <th>1</th>\n",
              "      <td>34825.0</td>\n",
              "      <td>60 months</td>\n",
              "      <td>12.61%</td>\n",
              "      <td>2 years</td>\n",
              "      <td>125000.0</td>\n",
              "      <td>Current</td>\n",
              "      <td>Individual</td>\n",
              "      <td>MORTGAGE</td>\n",
              "      <td>C</td>\n",
              "    </tr>\n",
              "    <tr>\n",
              "      <th>2</th>\n",
              "      <td>2600.0</td>\n",
              "      <td>36 months</td>\n",
              "      <td>7.96%</td>\n",
              "      <td>3 years</td>\n",
              "      <td>62000.0</td>\n",
              "      <td>Current</td>\n",
              "      <td>Individual</td>\n",
              "      <td>MORTGAGE</td>\n",
              "      <td>A</td>\n",
              "    </tr>\n",
              "    <tr>\n",
              "      <th>3</th>\n",
              "      <td>20000.0</td>\n",
              "      <td>60 months</td>\n",
              "      <td>9.92%</td>\n",
              "      <td>3 years</td>\n",
              "      <td>110000.0</td>\n",
              "      <td>Current</td>\n",
              "      <td>Individual</td>\n",
              "      <td>MORTGAGE</td>\n",
              "      <td>B</td>\n",
              "    </tr>\n",
              "    <tr>\n",
              "      <th>4</th>\n",
              "      <td>17000.0</td>\n",
              "      <td>60 months</td>\n",
              "      <td>20.39%</td>\n",
              "      <td>10+ years</td>\n",
              "      <td>52000.0</td>\n",
              "      <td>Current</td>\n",
              "      <td>Individual</td>\n",
              "      <td>RENT</td>\n",
              "      <td>D</td>\n",
              "    </tr>\n",
              "  </tbody>\n",
              "</table>\n",
              "</div>"
            ],
            "text/plain": [
              "   loan_amnt        term int_rate  ... application_type  home_ownership grade\n",
              "0    30000.0   36 months    7.34%  ...       Individual             OWN     A\n",
              "1    34825.0   60 months   12.61%  ...       Individual        MORTGAGE     C\n",
              "2     2600.0   36 months    7.96%  ...       Individual        MORTGAGE     A\n",
              "3    20000.0   60 months    9.92%  ...       Individual        MORTGAGE     B\n",
              "4    17000.0   60 months   20.39%  ...       Individual            RENT     D\n",
              "\n",
              "[5 rows x 9 columns]"
            ]
          },
          "metadata": {
            "tags": []
          },
          "execution_count": 7
        }
      ]
    },
    {
      "cell_type": "code",
      "metadata": {
        "id": "e9aWkKNPTI-s",
        "colab_type": "code",
        "colab": {
          "base_uri": "https://localhost:8080/",
          "height": 72
        },
        "outputId": "6dd6a582-32dc-4fe1-81ff-e8f339fe52f0"
      },
      "source": [
        "st1= Grade.grade == \"A\"\n",
        "st2 = Grade.grade == \"B\"\n",
        "index = np.where(st1+st2)"
      ],
      "execution_count": 8,
      "outputs": [
        {
          "output_type": "stream",
          "text": [
            "/usr/local/lib/python3.6/dist-packages/pandas/core/computation/expressions.py:178: UserWarning: evaluating in Python space because the '+' operator is not supported by numexpr for the bool dtype, use '|' instead\n",
            "  f\"evaluating in Python space because the {repr(op_str)} \"\n"
          ],
          "name": "stderr"
        }
      ]
    },
    {
      "cell_type": "code",
      "metadata": {
        "colab_type": "code",
        "id": "6b8U3RTa9egl",
        "colab": {}
      },
      "source": [
        "Grade['eligible']=np.zeros(st1.shape,st1.dtype)"
      ],
      "execution_count": 9,
      "outputs": []
    },
    {
      "cell_type": "code",
      "metadata": {
        "id": "QL6mfleRTI-0",
        "colab_type": "code",
        "colab": {
          "base_uri": "https://localhost:8080/",
          "height": 124
        },
        "outputId": "6fe03844-f6b3-495d-9dcd-58028018ad7c"
      },
      "source": [
        "Grade['eligible'][st1|st2]= 1"
      ],
      "execution_count": 10,
      "outputs": [
        {
          "output_type": "stream",
          "text": [
            "/usr/local/lib/python3.6/dist-packages/ipykernel_launcher.py:1: SettingWithCopyWarning: \n",
            "A value is trying to be set on a copy of a slice from a DataFrame\n",
            "\n",
            "See the caveats in the documentation: https://pandas.pydata.org/pandas-docs/stable/user_guide/indexing.html#returning-a-view-versus-a-copy\n",
            "  \"\"\"Entry point for launching an IPython kernel.\n"
          ],
          "name": "stderr"
        }
      ]
    },
    {
      "cell_type": "code",
      "metadata": {
        "id": "S8rYGq69TI-5",
        "colab_type": "code",
        "colab": {}
      },
      "source": [
        "# Grade['eligible']"
      ],
      "execution_count": null,
      "outputs": []
    },
    {
      "cell_type": "code",
      "metadata": {
        "id": "3_XBGBsHTI-8",
        "colab_type": "code",
        "colab": {
          "base_uri": "https://localhost:8080/",
          "height": 313
        },
        "outputId": "c88234cb-c102-493b-95bf-9b9620432c66"
      },
      "source": [
        "Grade.head()"
      ],
      "execution_count": 11,
      "outputs": [
        {
          "output_type": "execute_result",
          "data": {
            "text/html": [
              "<div>\n",
              "<style scoped>\n",
              "    .dataframe tbody tr th:only-of-type {\n",
              "        vertical-align: middle;\n",
              "    }\n",
              "\n",
              "    .dataframe tbody tr th {\n",
              "        vertical-align: top;\n",
              "    }\n",
              "\n",
              "    .dataframe thead th {\n",
              "        text-align: right;\n",
              "    }\n",
              "</style>\n",
              "<table border=\"1\" class=\"dataframe\">\n",
              "  <thead>\n",
              "    <tr style=\"text-align: right;\">\n",
              "      <th></th>\n",
              "      <th>loan_amnt</th>\n",
              "      <th>term</th>\n",
              "      <th>int_rate</th>\n",
              "      <th>emp_length</th>\n",
              "      <th>annual_inc</th>\n",
              "      <th>loan_status</th>\n",
              "      <th>application_type</th>\n",
              "      <th>home_ownership</th>\n",
              "      <th>grade</th>\n",
              "      <th>eligible</th>\n",
              "    </tr>\n",
              "  </thead>\n",
              "  <tbody>\n",
              "    <tr>\n",
              "      <th>0</th>\n",
              "      <td>30000.0</td>\n",
              "      <td>36 months</td>\n",
              "      <td>7.34%</td>\n",
              "      <td>3 years</td>\n",
              "      <td>95000.0</td>\n",
              "      <td>Fully Paid</td>\n",
              "      <td>Individual</td>\n",
              "      <td>OWN</td>\n",
              "      <td>A</td>\n",
              "      <td>1.0</td>\n",
              "    </tr>\n",
              "    <tr>\n",
              "      <th>1</th>\n",
              "      <td>34825.0</td>\n",
              "      <td>60 months</td>\n",
              "      <td>12.61%</td>\n",
              "      <td>2 years</td>\n",
              "      <td>125000.0</td>\n",
              "      <td>Current</td>\n",
              "      <td>Individual</td>\n",
              "      <td>MORTGAGE</td>\n",
              "      <td>C</td>\n",
              "      <td>0.0</td>\n",
              "    </tr>\n",
              "    <tr>\n",
              "      <th>2</th>\n",
              "      <td>2600.0</td>\n",
              "      <td>36 months</td>\n",
              "      <td>7.96%</td>\n",
              "      <td>3 years</td>\n",
              "      <td>62000.0</td>\n",
              "      <td>Current</td>\n",
              "      <td>Individual</td>\n",
              "      <td>MORTGAGE</td>\n",
              "      <td>A</td>\n",
              "      <td>1.0</td>\n",
              "    </tr>\n",
              "    <tr>\n",
              "      <th>3</th>\n",
              "      <td>20000.0</td>\n",
              "      <td>60 months</td>\n",
              "      <td>9.92%</td>\n",
              "      <td>3 years</td>\n",
              "      <td>110000.0</td>\n",
              "      <td>Current</td>\n",
              "      <td>Individual</td>\n",
              "      <td>MORTGAGE</td>\n",
              "      <td>B</td>\n",
              "      <td>1.0</td>\n",
              "    </tr>\n",
              "    <tr>\n",
              "      <th>4</th>\n",
              "      <td>17000.0</td>\n",
              "      <td>60 months</td>\n",
              "      <td>20.39%</td>\n",
              "      <td>10+ years</td>\n",
              "      <td>52000.0</td>\n",
              "      <td>Current</td>\n",
              "      <td>Individual</td>\n",
              "      <td>RENT</td>\n",
              "      <td>D</td>\n",
              "      <td>0.0</td>\n",
              "    </tr>\n",
              "  </tbody>\n",
              "</table>\n",
              "</div>"
            ],
            "text/plain": [
              "   loan_amnt        term int_rate  ... home_ownership  grade eligible\n",
              "0    30000.0   36 months    7.34%  ...            OWN      A      1.0\n",
              "1    34825.0   60 months   12.61%  ...       MORTGAGE      C      0.0\n",
              "2     2600.0   36 months    7.96%  ...       MORTGAGE      A      1.0\n",
              "3    20000.0   60 months    9.92%  ...       MORTGAGE      B      1.0\n",
              "4    17000.0   60 months   20.39%  ...           RENT      D      0.0\n",
              "\n",
              "[5 rows x 10 columns]"
            ]
          },
          "metadata": {
            "tags": []
          },
          "execution_count": 11
        }
      ]
    },
    {
      "cell_type": "code",
      "metadata": {
        "id": "isIJW8wcTI_A",
        "colab_type": "code",
        "colab": {}
      },
      "source": [
        "Grade[\"emp_length\"] = Grade[\"emp_length\"].str.strip(' < ')#s.str.rstrip('.!? \\n\\t')\n",
        "Grade[\"emp_length\"] = Grade[\"emp_length\"].str.strip('year')#s.str.rstrip('.!? \\n\\t')\n",
        "Grade[\"emp_length\"] = Grade[\"emp_length\"].str.strip('years')#s.str.rstrip('.!? \\n\\t')\n",
        "Grade[\"term\"] = Grade[\"term\"].str.strip('months')\n",
        "# Grade[\"emp_length\"] = Grade[\"emp_length\"].str.strip('+')\n",
        "Grade[\"int_rate\"] = Grade[\"int_rate\"].str.strip('%')"
      ],
      "execution_count": 12,
      "outputs": []
    },
    {
      "cell_type": "markdown",
      "metadata": {
        "id": "N1zaLKp5TI_F",
        "colab_type": "raw"
      },
      "source": [
        ""
      ]
    },
    {
      "cell_type": "code",
      "metadata": {
        "id": "FKBczbDQTI_G",
        "colab_type": "code",
        "colab": {}
      },
      "source": [
        "Grade[\"emp_length\"] = Grade[\"emp_length\"].str[0:2]"
      ],
      "execution_count": 13,
      "outputs": []
    },
    {
      "cell_type": "code",
      "metadata": {
        "id": "xgRdHcUlTI_L",
        "colab_type": "code",
        "colab": {}
      },
      "source": [
        "Grade[\"emp_length\"] = Grade[\"emp_length\"].astype('float64')"
      ],
      "execution_count": 14,
      "outputs": []
    },
    {
      "cell_type": "code",
      "metadata": {
        "id": "O_UoZKMmTI_O",
        "colab_type": "code",
        "colab": {
          "base_uri": "https://localhost:8080/",
          "height": 226
        },
        "outputId": "6ded626f-db90-4d50-ecb4-4dd806ada2bb"
      },
      "source": [
        "Grade.head()"
      ],
      "execution_count": 15,
      "outputs": [
        {
          "output_type": "execute_result",
          "data": {
            "text/html": [
              "<div>\n",
              "<style scoped>\n",
              "    .dataframe tbody tr th:only-of-type {\n",
              "        vertical-align: middle;\n",
              "    }\n",
              "\n",
              "    .dataframe tbody tr th {\n",
              "        vertical-align: top;\n",
              "    }\n",
              "\n",
              "    .dataframe thead th {\n",
              "        text-align: right;\n",
              "    }\n",
              "</style>\n",
              "<table border=\"1\" class=\"dataframe\">\n",
              "  <thead>\n",
              "    <tr style=\"text-align: right;\">\n",
              "      <th></th>\n",
              "      <th>loan_amnt</th>\n",
              "      <th>term</th>\n",
              "      <th>int_rate</th>\n",
              "      <th>emp_length</th>\n",
              "      <th>annual_inc</th>\n",
              "      <th>loan_status</th>\n",
              "      <th>application_type</th>\n",
              "      <th>home_ownership</th>\n",
              "      <th>grade</th>\n",
              "      <th>eligible</th>\n",
              "    </tr>\n",
              "  </thead>\n",
              "  <tbody>\n",
              "    <tr>\n",
              "      <th>0</th>\n",
              "      <td>30000.0</td>\n",
              "      <td>36</td>\n",
              "      <td>7.34</td>\n",
              "      <td>3.0</td>\n",
              "      <td>95000.0</td>\n",
              "      <td>Fully Paid</td>\n",
              "      <td>Individual</td>\n",
              "      <td>OWN</td>\n",
              "      <td>A</td>\n",
              "      <td>1.0</td>\n",
              "    </tr>\n",
              "    <tr>\n",
              "      <th>1</th>\n",
              "      <td>34825.0</td>\n",
              "      <td>60</td>\n",
              "      <td>12.61</td>\n",
              "      <td>2.0</td>\n",
              "      <td>125000.0</td>\n",
              "      <td>Current</td>\n",
              "      <td>Individual</td>\n",
              "      <td>MORTGAGE</td>\n",
              "      <td>C</td>\n",
              "      <td>0.0</td>\n",
              "    </tr>\n",
              "    <tr>\n",
              "      <th>2</th>\n",
              "      <td>2600.0</td>\n",
              "      <td>36</td>\n",
              "      <td>7.96</td>\n",
              "      <td>3.0</td>\n",
              "      <td>62000.0</td>\n",
              "      <td>Current</td>\n",
              "      <td>Individual</td>\n",
              "      <td>MORTGAGE</td>\n",
              "      <td>A</td>\n",
              "      <td>1.0</td>\n",
              "    </tr>\n",
              "    <tr>\n",
              "      <th>3</th>\n",
              "      <td>20000.0</td>\n",
              "      <td>60</td>\n",
              "      <td>9.92</td>\n",
              "      <td>3.0</td>\n",
              "      <td>110000.0</td>\n",
              "      <td>Current</td>\n",
              "      <td>Individual</td>\n",
              "      <td>MORTGAGE</td>\n",
              "      <td>B</td>\n",
              "      <td>1.0</td>\n",
              "    </tr>\n",
              "    <tr>\n",
              "      <th>4</th>\n",
              "      <td>17000.0</td>\n",
              "      <td>60</td>\n",
              "      <td>20.39</td>\n",
              "      <td>10.0</td>\n",
              "      <td>52000.0</td>\n",
              "      <td>Current</td>\n",
              "      <td>Individual</td>\n",
              "      <td>RENT</td>\n",
              "      <td>D</td>\n",
              "      <td>0.0</td>\n",
              "    </tr>\n",
              "  </tbody>\n",
              "</table>\n",
              "</div>"
            ],
            "text/plain": [
              "   loan_amnt  term int_rate  ...  home_ownership  grade eligible\n",
              "0    30000.0   36      7.34  ...             OWN      A      1.0\n",
              "1    34825.0   60     12.61  ...        MORTGAGE      C      0.0\n",
              "2     2600.0   36      7.96  ...        MORTGAGE      A      1.0\n",
              "3    20000.0   60      9.92  ...        MORTGAGE      B      1.0\n",
              "4    17000.0   60     20.39  ...            RENT      D      0.0\n",
              "\n",
              "[5 rows x 10 columns]"
            ]
          },
          "metadata": {
            "tags": []
          },
          "execution_count": 15
        }
      ]
    },
    {
      "cell_type": "code",
      "metadata": {
        "id": "OCk9-aooTI_S",
        "colab_type": "code",
        "colab": {
          "base_uri": "https://localhost:8080/",
          "height": 226
        },
        "outputId": "da39ed39-d0dc-4397-8cbd-32ec7e4f9dd3"
      },
      "source": [
        "nan_df = Grade[Grade.isna().any(axis =1)]\n",
        "nan_df.head()"
      ],
      "execution_count": 16,
      "outputs": [
        {
          "output_type": "execute_result",
          "data": {
            "text/html": [
              "<div>\n",
              "<style scoped>\n",
              "    .dataframe tbody tr th:only-of-type {\n",
              "        vertical-align: middle;\n",
              "    }\n",
              "\n",
              "    .dataframe tbody tr th {\n",
              "        vertical-align: top;\n",
              "    }\n",
              "\n",
              "    .dataframe thead th {\n",
              "        text-align: right;\n",
              "    }\n",
              "</style>\n",
              "<table border=\"1\" class=\"dataframe\">\n",
              "  <thead>\n",
              "    <tr style=\"text-align: right;\">\n",
              "      <th></th>\n",
              "      <th>loan_amnt</th>\n",
              "      <th>term</th>\n",
              "      <th>int_rate</th>\n",
              "      <th>emp_length</th>\n",
              "      <th>annual_inc</th>\n",
              "      <th>loan_status</th>\n",
              "      <th>application_type</th>\n",
              "      <th>home_ownership</th>\n",
              "      <th>grade</th>\n",
              "      <th>eligible</th>\n",
              "    </tr>\n",
              "  </thead>\n",
              "  <tbody>\n",
              "    <tr>\n",
              "      <th>6</th>\n",
              "      <td>20000.0</td>\n",
              "      <td>36</td>\n",
              "      <td>10.41</td>\n",
              "      <td>NaN</td>\n",
              "      <td>19000.0</td>\n",
              "      <td>Current</td>\n",
              "      <td>Joint App</td>\n",
              "      <td>MORTGAGE</td>\n",
              "      <td>B</td>\n",
              "      <td>1.0</td>\n",
              "    </tr>\n",
              "    <tr>\n",
              "      <th>30</th>\n",
              "      <td>24000.0</td>\n",
              "      <td>36</td>\n",
              "      <td>21.85</td>\n",
              "      <td>NaN</td>\n",
              "      <td>53000.0</td>\n",
              "      <td>Current</td>\n",
              "      <td>Individual</td>\n",
              "      <td>RENT</td>\n",
              "      <td>D</td>\n",
              "      <td>0.0</td>\n",
              "    </tr>\n",
              "    <tr>\n",
              "      <th>36</th>\n",
              "      <td>35000.0</td>\n",
              "      <td>60</td>\n",
              "      <td>24.84</td>\n",
              "      <td>NaN</td>\n",
              "      <td>90000.0</td>\n",
              "      <td>Current</td>\n",
              "      <td>Joint App</td>\n",
              "      <td>MORTGAGE</td>\n",
              "      <td>E</td>\n",
              "      <td>0.0</td>\n",
              "    </tr>\n",
              "    <tr>\n",
              "      <th>43</th>\n",
              "      <td>15000.0</td>\n",
              "      <td>36</td>\n",
              "      <td>14.07</td>\n",
              "      <td>NaN</td>\n",
              "      <td>28056.0</td>\n",
              "      <td>Current</td>\n",
              "      <td>Individual</td>\n",
              "      <td>MORTGAGE</td>\n",
              "      <td>C</td>\n",
              "      <td>0.0</td>\n",
              "    </tr>\n",
              "    <tr>\n",
              "      <th>44</th>\n",
              "      <td>10000.0</td>\n",
              "      <td>36</td>\n",
              "      <td>5.31</td>\n",
              "      <td>NaN</td>\n",
              "      <td>61056.0</td>\n",
              "      <td>Current</td>\n",
              "      <td>Individual</td>\n",
              "      <td>RENT</td>\n",
              "      <td>A</td>\n",
              "      <td>1.0</td>\n",
              "    </tr>\n",
              "  </tbody>\n",
              "</table>\n",
              "</div>"
            ],
            "text/plain": [
              "    loan_amnt  term int_rate  ...  home_ownership  grade eligible\n",
              "6     20000.0   36     10.41  ...        MORTGAGE      B      1.0\n",
              "30    24000.0   36     21.85  ...            RENT      D      0.0\n",
              "36    35000.0   60     24.84  ...        MORTGAGE      E      0.0\n",
              "43    15000.0   36     14.07  ...        MORTGAGE      C      0.0\n",
              "44    10000.0   36      5.31  ...            RENT      A      1.0\n",
              "\n",
              "[5 rows x 10 columns]"
            ]
          },
          "metadata": {
            "tags": []
          },
          "execution_count": 16
        }
      ]
    },
    {
      "cell_type": "code",
      "metadata": {
        "id": "KwqCXznITI_X",
        "colab_type": "code",
        "colab": {
          "base_uri": "https://localhost:8080/",
          "height": 312
        },
        "outputId": "0ee1d986-cf97-40b5-f9a3-bac2e71d8abb"
      },
      "source": [
        "Grade = Grade.dropna(how = \"all\")\n",
        "Grade.info()"
      ],
      "execution_count": 17,
      "outputs": [
        {
          "output_type": "stream",
          "text": [
            "<class 'pandas.core.frame.DataFrame'>\n",
            "Int64Index: 107866 entries, 0 to 107865\n",
            "Data columns (total 10 columns):\n",
            " #   Column            Non-Null Count   Dtype  \n",
            "---  ------            --------------   -----  \n",
            " 0   loan_amnt         107864 non-null  float64\n",
            " 1   term              107864 non-null  object \n",
            " 2   int_rate          107864 non-null  object \n",
            " 3   emp_length        98436 non-null   float64\n",
            " 4   annual_inc        107864 non-null  float64\n",
            " 5   loan_status       107864 non-null  object \n",
            " 6   application_type  107864 non-null  object \n",
            " 7   home_ownership    107864 non-null  object \n",
            " 8   grade             107864 non-null  object \n",
            " 9   eligible          107866 non-null  float64\n",
            "dtypes: float64(4), object(6)\n",
            "memory usage: 9.1+ MB\n"
          ],
          "name": "stdout"
        }
      ]
    },
    {
      "cell_type": "code",
      "metadata": {
        "id": "Qp8ZmwxpTI_b",
        "colab_type": "code",
        "colab": {
          "base_uri": "https://localhost:8080/",
          "height": 208
        },
        "outputId": "0bbb0d43-4059-40a4-efd9-848070ff1cf5"
      },
      "source": [
        "null_v = Grade.isnull().sum()\n",
        "print(null_v)"
      ],
      "execution_count": 18,
      "outputs": [
        {
          "output_type": "stream",
          "text": [
            "loan_amnt              2\n",
            "term                   2\n",
            "int_rate               2\n",
            "emp_length          9430\n",
            "annual_inc             2\n",
            "loan_status            2\n",
            "application_type       2\n",
            "home_ownership         2\n",
            "grade                  2\n",
            "eligible               0\n",
            "dtype: int64\n"
          ],
          "name": "stdout"
        }
      ]
    },
    {
      "cell_type": "code",
      "metadata": {
        "id": "0YJwNPwaTI_e",
        "colab_type": "code",
        "colab": {}
      },
      "source": [
        "# from sklearn.preprocessing import Imputer\n",
        "# imputer = Imputer(missing_values = 'NaN', strategy = 'mean', axis = 0)\n",
        "# imputer = imputer.fit(Grade.emp_length)\n",
        "# Grade.emp_length = imputer.transform(Grade.emp_length)"
      ],
      "execution_count": null,
      "outputs": []
    },
    {
      "cell_type": "code",
      "metadata": {
        "id": "0ZWbS1bVTI_h",
        "colab_type": "code",
        "colab": {
          "base_uri": "https://localhost:8080/",
          "height": 312
        },
        "outputId": "177dd6af-c7d1-4e4d-af7d-5f05ea5ec81f"
      },
      "source": [
        "Grade = Grade.dropna(how = \"any\")\n",
        "Grade.info()"
      ],
      "execution_count": 19,
      "outputs": [
        {
          "output_type": "stream",
          "text": [
            "<class 'pandas.core.frame.DataFrame'>\n",
            "Int64Index: 98436 entries, 0 to 107863\n",
            "Data columns (total 10 columns):\n",
            " #   Column            Non-Null Count  Dtype  \n",
            "---  ------            --------------  -----  \n",
            " 0   loan_amnt         98436 non-null  float64\n",
            " 1   term              98436 non-null  object \n",
            " 2   int_rate          98436 non-null  object \n",
            " 3   emp_length        98436 non-null  float64\n",
            " 4   annual_inc        98436 non-null  float64\n",
            " 5   loan_status       98436 non-null  object \n",
            " 6   application_type  98436 non-null  object \n",
            " 7   home_ownership    98436 non-null  object \n",
            " 8   grade             98436 non-null  object \n",
            " 9   eligible          98436 non-null  float64\n",
            "dtypes: float64(4), object(6)\n",
            "memory usage: 8.3+ MB\n"
          ],
          "name": "stdout"
        }
      ]
    },
    {
      "cell_type": "code",
      "metadata": {
        "id": "O4x0Fs3ETI_n",
        "colab_type": "code",
        "colab": {
          "base_uri": "https://localhost:8080/",
          "height": 208
        },
        "outputId": "b28d21a2-602d-4828-adc8-b7f011d171da"
      },
      "source": [
        "null_v = Grade.isnull().sum()\n",
        "print(null_v)"
      ],
      "execution_count": 20,
      "outputs": [
        {
          "output_type": "stream",
          "text": [
            "loan_amnt           0\n",
            "term                0\n",
            "int_rate            0\n",
            "emp_length          0\n",
            "annual_inc          0\n",
            "loan_status         0\n",
            "application_type    0\n",
            "home_ownership      0\n",
            "grade               0\n",
            "eligible            0\n",
            "dtype: int64\n"
          ],
          "name": "stdout"
        }
      ]
    },
    {
      "cell_type": "code",
      "metadata": {
        "id": "_dX6fPrhTI_q",
        "colab_type": "code",
        "colab": {}
      },
      "source": [
        "from sklearn import preprocessing\n",
        "le = preprocessing.LabelEncoder()"
      ],
      "execution_count": 21,
      "outputs": []
    },
    {
      "cell_type": "code",
      "metadata": {
        "id": "Y8S7klXzTI_u",
        "colab_type": "code",
        "colab": {}
      },
      "source": [
        "Grade.loan_status=le.fit_transform(Grade.loan_status)\n",
        "Grade.application_type=le.fit_transform(Grade.application_type)\n",
        "Grade.home_ownership = le.fit_transform(Grade.home_ownership)"
      ],
      "execution_count": 22,
      "outputs": []
    },
    {
      "cell_type": "code",
      "metadata": {
        "id": "ZKeS-Lz_TI_w",
        "colab_type": "code",
        "colab": {
          "base_uri": "https://localhost:8080/",
          "height": 226
        },
        "outputId": "1356e974-44fc-4e5b-85b2-fe3ca6769a8f"
      },
      "source": [
        "Grade.head()"
      ],
      "execution_count": 23,
      "outputs": [
        {
          "output_type": "execute_result",
          "data": {
            "text/html": [
              "<div>\n",
              "<style scoped>\n",
              "    .dataframe tbody tr th:only-of-type {\n",
              "        vertical-align: middle;\n",
              "    }\n",
              "\n",
              "    .dataframe tbody tr th {\n",
              "        vertical-align: top;\n",
              "    }\n",
              "\n",
              "    .dataframe thead th {\n",
              "        text-align: right;\n",
              "    }\n",
              "</style>\n",
              "<table border=\"1\" class=\"dataframe\">\n",
              "  <thead>\n",
              "    <tr style=\"text-align: right;\">\n",
              "      <th></th>\n",
              "      <th>loan_amnt</th>\n",
              "      <th>term</th>\n",
              "      <th>int_rate</th>\n",
              "      <th>emp_length</th>\n",
              "      <th>annual_inc</th>\n",
              "      <th>loan_status</th>\n",
              "      <th>application_type</th>\n",
              "      <th>home_ownership</th>\n",
              "      <th>grade</th>\n",
              "      <th>eligible</th>\n",
              "    </tr>\n",
              "  </thead>\n",
              "  <tbody>\n",
              "    <tr>\n",
              "      <th>0</th>\n",
              "      <td>30000.0</td>\n",
              "      <td>36</td>\n",
              "      <td>7.34</td>\n",
              "      <td>3.0</td>\n",
              "      <td>95000.0</td>\n",
              "      <td>3</td>\n",
              "      <td>0</td>\n",
              "      <td>2</td>\n",
              "      <td>A</td>\n",
              "      <td>1.0</td>\n",
              "    </tr>\n",
              "    <tr>\n",
              "      <th>1</th>\n",
              "      <td>34825.0</td>\n",
              "      <td>60</td>\n",
              "      <td>12.61</td>\n",
              "      <td>2.0</td>\n",
              "      <td>125000.0</td>\n",
              "      <td>1</td>\n",
              "      <td>0</td>\n",
              "      <td>1</td>\n",
              "      <td>C</td>\n",
              "      <td>0.0</td>\n",
              "    </tr>\n",
              "    <tr>\n",
              "      <th>2</th>\n",
              "      <td>2600.0</td>\n",
              "      <td>36</td>\n",
              "      <td>7.96</td>\n",
              "      <td>3.0</td>\n",
              "      <td>62000.0</td>\n",
              "      <td>1</td>\n",
              "      <td>0</td>\n",
              "      <td>1</td>\n",
              "      <td>A</td>\n",
              "      <td>1.0</td>\n",
              "    </tr>\n",
              "    <tr>\n",
              "      <th>3</th>\n",
              "      <td>20000.0</td>\n",
              "      <td>60</td>\n",
              "      <td>9.92</td>\n",
              "      <td>3.0</td>\n",
              "      <td>110000.0</td>\n",
              "      <td>1</td>\n",
              "      <td>0</td>\n",
              "      <td>1</td>\n",
              "      <td>B</td>\n",
              "      <td>1.0</td>\n",
              "    </tr>\n",
              "    <tr>\n",
              "      <th>4</th>\n",
              "      <td>17000.0</td>\n",
              "      <td>60</td>\n",
              "      <td>20.39</td>\n",
              "      <td>10.0</td>\n",
              "      <td>52000.0</td>\n",
              "      <td>1</td>\n",
              "      <td>0</td>\n",
              "      <td>3</td>\n",
              "      <td>D</td>\n",
              "      <td>0.0</td>\n",
              "    </tr>\n",
              "  </tbody>\n",
              "</table>\n",
              "</div>"
            ],
            "text/plain": [
              "   loan_amnt  term int_rate  ...  home_ownership  grade  eligible\n",
              "0    30000.0   36      7.34  ...               2      A       1.0\n",
              "1    34825.0   60     12.61  ...               1      C       0.0\n",
              "2     2600.0   36      7.96  ...               1      A       1.0\n",
              "3    20000.0   60      9.92  ...               1      B       1.0\n",
              "4    17000.0   60     20.39  ...               3      D       0.0\n",
              "\n",
              "[5 rows x 10 columns]"
            ]
          },
          "metadata": {
            "tags": []
          },
          "execution_count": 23
        }
      ]
    },
    {
      "cell_type": "code",
      "metadata": {
        "id": "mCYa4vedTI_0",
        "colab_type": "code",
        "colab": {}
      },
      "source": [
        "#onrhotencoder >> create dummy variable [ number does'nt mean higher or lower]"
      ],
      "execution_count": null,
      "outputs": []
    },
    {
      "cell_type": "code",
      "metadata": {
        "colab_type": "code",
        "id": "lff9k1JtsZjU",
        "colab": {}
      },
      "source": [
        "X = Grade.iloc[:,:-2].values"
      ],
      "execution_count": 24,
      "outputs": []
    },
    {
      "cell_type": "code",
      "metadata": {
        "colab_type": "code",
        "id": "CYdX-Hyi7NXV",
        "colab": {}
      },
      "source": [
        "Y = Grade.iloc[:,-1].values"
      ],
      "execution_count": 25,
      "outputs": []
    },
    {
      "cell_type": "code",
      "metadata": {
        "id": "oxgjUBIjTI_8",
        "colab_type": "code",
        "colab": {}
      },
      "source": [
        "# # Encoding categorical data\n",
        "# # Encoding the Independent Variable\n",
        "# from sklearn.preprocessing import LabelEncoder, OneHotEncoder\n",
        "# labelencoder_X = LabelEncoder()\n",
        "# Grade.loan_status = labelencoder_X.fit_transform(Grade.loan_status)\n",
        "# Grade.application_type = labelencoder_X.fit_transform(Grade.application_type)\n",
        "# Grade.home_ownership = labelencoder_X.fit_transform(Grade.home_ownership)\n",
        "# onehotencoder = OneHotEncoder(categorical_features = [5])\n",
        "# X = onehotencoder.fit_transform(X).toarray()"
      ],
      "execution_count": null,
      "outputs": []
    },
    {
      "cell_type": "code",
      "metadata": {
        "id": "FSde2C7GTI__",
        "colab_type": "code",
        "colab": {}
      },
      "source": [
        "# Splitting the dataset into the Training set and Test set\n",
        "from sklearn.model_selection import train_test_split\n",
        "X_train, X_test, Y_train, Y_test = train_test_split(X, Y, test_size = 0.2, random_state = 0)"
      ],
      "execution_count": 26,
      "outputs": []
    },
    {
      "cell_type": "code",
      "metadata": {
        "id": "04YOWz0lTJAC",
        "colab_type": "code",
        "colab": {}
      },
      "source": [
        "from sklearn.preprocessing import StandardScaler\n",
        "sc = StandardScaler()\n",
        "X_train = sc.fit_transform(X_train)\n",
        "X_test = sc.fit_transform(X_test)"
      ],
      "execution_count": 27,
      "outputs": []
    },
    {
      "cell_type": "markdown",
      "metadata": {
        "id": "mLtoGzCJTJAH",
        "colab_type": "text"
      },
      "source": [
        "# MAKING ANN"
      ]
    },
    {
      "cell_type": "code",
      "metadata": {
        "id": "tIPavT8XTJAK",
        "colab_type": "code",
        "colab": {
          "base_uri": "https://localhost:8080/",
          "height": 34
        },
        "outputId": "182771d9-9110-487e-95c3-a4b7f6aec32a"
      },
      "source": [
        "#import keras\n",
        "import keras"
      ],
      "execution_count": 28,
      "outputs": [
        {
          "output_type": "stream",
          "text": [
            "Using TensorFlow backend.\n"
          ],
          "name": "stderr"
        }
      ]
    },
    {
      "cell_type": "code",
      "metadata": {
        "id": "1946NFbnTJAN",
        "colab_type": "code",
        "colab": {}
      },
      "source": [
        "from keras.models import Sequential\n",
        "# to create layers\n",
        "from keras.layers import Dense"
      ],
      "execution_count": 29,
      "outputs": []
    },
    {
      "cell_type": "code",
      "metadata": {
        "id": "F8jlUQf6TJAR",
        "colab_type": "code",
        "colab": {}
      },
      "source": [
        "#Initializing ANN\n",
        "classifier = Sequential()"
      ],
      "execution_count": 32,
      "outputs": []
    },
    {
      "cell_type": "code",
      "metadata": {
        "id": "vA0KqKOxTJAT",
        "colab_type": "code",
        "colab": {
          "base_uri": "https://localhost:8080/",
          "height": 72
        },
        "outputId": "bf7a2c64-68ad-4cf5-b6a9-1bd7fa1b780b"
      },
      "source": [
        "# Adding the First Hidden layer and Input Layer\n",
        "    # input_dim = # of inputs\n",
        "    # output_dim = # hidden layers\n",
        "    #init = Gradient desccent, randomly initialize weight close to zero\n",
        "classifier.add(Dense(output_dim = 5, init = \"uniform\", activation = \"relu\", input_dim = 8))"
      ],
      "execution_count": 33,
      "outputs": [
        {
          "output_type": "stream",
          "text": [
            "/usr/local/lib/python3.6/dist-packages/ipykernel_launcher.py:5: UserWarning: Update your `Dense` call to the Keras 2 API: `Dense(activation=\"relu\", input_dim=8, units=5, kernel_initializer=\"uniform\")`\n",
            "  \"\"\"\n"
          ],
          "name": "stderr"
        }
      ]
    },
    {
      "cell_type": "code",
      "metadata": {
        "colab_type": "code",
        "id": "p_uE99I4sZjW",
        "colab": {
          "base_uri": "https://localhost:8080/",
          "height": 72
        },
        "outputId": "5b3929b5-3c3a-40bc-f23f-b768b4070178"
      },
      "source": [
        "# second hidden layer\n",
        "classifier.add(Dense(output_dim = 5, init = \"uniform\", activation = \"relu\"))"
      ],
      "execution_count": 34,
      "outputs": [
        {
          "output_type": "stream",
          "text": [
            "/usr/local/lib/python3.6/dist-packages/ipykernel_launcher.py:2: UserWarning: Update your `Dense` call to the Keras 2 API: `Dense(activation=\"relu\", units=5, kernel_initializer=\"uniform\")`\n",
            "  \n"
          ],
          "name": "stderr"
        }
      ]
    },
    {
      "cell_type": "code",
      "metadata": {
        "colab_type": "code",
        "id": "fKQQDq03sZjd",
        "colab": {
          "base_uri": "https://localhost:8080/",
          "height": 72
        },
        "outputId": "469a8afd-f1b0-4bcb-98ef-4cd9e64026da"
      },
      "source": [
        "#creating the output layer\n",
        "#output_dim = node in output layer\n",
        "classifier.add(Dense(output_dim = 1, init = \"uniform\", activation = \"sigmoid\"))"
      ],
      "execution_count": 35,
      "outputs": [
        {
          "output_type": "stream",
          "text": [
            "/usr/local/lib/python3.6/dist-packages/ipykernel_launcher.py:3: UserWarning: Update your `Dense` call to the Keras 2 API: `Dense(activation=\"sigmoid\", units=1, kernel_initializer=\"uniform\")`\n",
            "  This is separate from the ipykernel package so we can avoid doing imports until\n"
          ],
          "name": "stderr"
        }
      ]
    },
    {
      "cell_type": "code",
      "metadata": {
        "colab_type": "code",
        "id": "gFsXPXjBsZji",
        "colab": {}
      },
      "source": [
        "#compiling the ANN model - Applying stochastic gradient descent on the whole model\n",
        "classifier.compile(optimizer = \"adam\", loss = \"binary_crossentropy\", metrics = [\"accuracy\"])"
      ],
      "execution_count": 36,
      "outputs": []
    },
    {
      "cell_type": "code",
      "metadata": {
        "colab_type": "code",
        "id": "8BJFwmXTsZjp",
        "colab": {
          "base_uri": "https://localhost:8080/",
          "height": 1000
        },
        "outputId": "7819a3b7-a739-4c86-d2d6-12569f8ec4c4"
      },
      "source": [
        "# fit ANN to training set\n",
        "classifier.fit(X_train, Y_train, batch_size = 10, nb_epoch = 100)"
      ],
      "execution_count": 39,
      "outputs": [
        {
          "output_type": "stream",
          "text": [
            "/usr/local/lib/python3.6/dist-packages/ipykernel_launcher.py:2: UserWarning: The `nb_epoch` argument in `fit` has been renamed `epochs`.\n",
            "  \n"
          ],
          "name": "stderr"
        },
        {
          "output_type": "stream",
          "text": [
            "Epoch 1/100\n",
            "78748/78748 [==============================] - 9s 110us/step - loss: 0.0476 - accuracy: 0.9907\n",
            "Epoch 2/100\n",
            "78748/78748 [==============================] - 8s 105us/step - loss: 0.0034 - accuracy: 0.9998\n",
            "Epoch 3/100\n",
            "78748/78748 [==============================] - 8s 106us/step - loss: 0.0030 - accuracy: 0.9997\n",
            "Epoch 4/100\n",
            "78748/78748 [==============================] - 8s 107us/step - loss: 0.0024 - accuracy: 0.9998\n",
            "Epoch 5/100\n",
            "78748/78748 [==============================] - 8s 108us/step - loss: 0.0020 - accuracy: 0.9998\n",
            "Epoch 6/100\n",
            "78748/78748 [==============================] - 9s 109us/step - loss: 0.0017 - accuracy: 0.9998\n",
            "Epoch 7/100\n",
            "78748/78748 [==============================] - 9s 113us/step - loss: 0.0014 - accuracy: 0.9998\n",
            "Epoch 8/100\n",
            "78748/78748 [==============================] - 9s 109us/step - loss: 0.0013 - accuracy: 0.9998\n",
            "Epoch 9/100\n",
            "78748/78748 [==============================] - 8s 108us/step - loss: 0.0012 - accuracy: 0.9998\n",
            "Epoch 10/100\n",
            "78748/78748 [==============================] - 8s 106us/step - loss: 0.0012 - accuracy: 0.9998\n",
            "Epoch 11/100\n",
            "78748/78748 [==============================] - 8s 108us/step - loss: 0.0015 - accuracy: 0.9998\n",
            "Epoch 12/100\n",
            "78748/78748 [==============================] - 8s 108us/step - loss: 0.0011 - accuracy: 0.9998\n",
            "Epoch 13/100\n",
            "78748/78748 [==============================] - 9s 110us/step - loss: 0.0014 - accuracy: 0.9998\n",
            "Epoch 14/100\n",
            "78748/78748 [==============================] - 9s 109us/step - loss: 0.0012 - accuracy: 0.9998\n",
            "Epoch 15/100\n",
            "78748/78748 [==============================] - 10s 129us/step - loss: 0.0014 - accuracy: 0.9998\n",
            "Epoch 16/100\n",
            "78748/78748 [==============================] - 9s 109us/step - loss: 0.0016 - accuracy: 0.9998\n",
            "Epoch 17/100\n",
            "78748/78748 [==============================] - 9s 113us/step - loss: 0.0017 - accuracy: 0.9998\n",
            "Epoch 18/100\n",
            "78748/78748 [==============================] - 9s 111us/step - loss: 0.0011 - accuracy: 0.9998\n",
            "Epoch 19/100\n",
            "78748/78748 [==============================] - 8s 108us/step - loss: 0.0011 - accuracy: 0.9998\n",
            "Epoch 20/100\n",
            "78748/78748 [==============================] - 8s 107us/step - loss: 0.0011 - accuracy: 0.9998\n",
            "Epoch 21/100\n",
            "78748/78748 [==============================] - 8s 107us/step - loss: 0.0016 - accuracy: 0.9998\n",
            "Epoch 22/100\n",
            "78748/78748 [==============================] - 8s 106us/step - loss: 0.0011 - accuracy: 0.9998\n",
            "Epoch 23/100\n",
            "78748/78748 [==============================] - 8s 108us/step - loss: 0.0014 - accuracy: 0.9998\n",
            "Epoch 24/100\n",
            "78748/78748 [==============================] - 9s 108us/step - loss: 0.0011 - accuracy: 0.9998\n",
            "Epoch 25/100\n",
            "78748/78748 [==============================] - 9s 108us/step - loss: 0.0011 - accuracy: 0.9998\n",
            "Epoch 26/100\n",
            "78748/78748 [==============================] - 9s 115us/step - loss: 0.0017 - accuracy: 0.9998\n",
            "Epoch 27/100\n",
            "78748/78748 [==============================] - 9s 108us/step - loss: 0.0011 - accuracy: 0.9998\n",
            "Epoch 28/100\n",
            "78748/78748 [==============================] - 8s 107us/step - loss: 0.0014 - accuracy: 0.9998\n",
            "Epoch 29/100\n",
            "78748/78748 [==============================] - 8s 107us/step - loss: 0.0014 - accuracy: 0.9998\n",
            "Epoch 30/100\n",
            "78748/78748 [==============================] - 9s 108us/step - loss: 0.0011 - accuracy: 0.9998\n",
            "Epoch 31/100\n",
            "78748/78748 [==============================] - 8s 105us/step - loss: 0.0011 - accuracy: 0.9998\n",
            "Epoch 32/100\n",
            "78748/78748 [==============================] - 8s 105us/step - loss: 0.0011 - accuracy: 0.9998\n",
            "Epoch 33/100\n",
            "78748/78748 [==============================] - 8s 107us/step - loss: 0.0010 - accuracy: 0.9998\n",
            "Epoch 34/100\n",
            "78748/78748 [==============================] - 8s 106us/step - loss: 0.0010 - accuracy: 0.9998\n",
            "Epoch 35/100\n",
            "78748/78748 [==============================] - 9s 109us/step - loss: 0.0011 - accuracy: 0.9998\n",
            "Epoch 36/100\n",
            "78748/78748 [==============================] - 9s 112us/step - loss: 0.0011 - accuracy: 0.9998\n",
            "Epoch 37/100\n",
            "78748/78748 [==============================] - 8s 101us/step - loss: 0.0010 - accuracy: 0.9998\n",
            "Epoch 38/100\n",
            "78748/78748 [==============================] - 8s 107us/step - loss: 0.0016 - accuracy: 0.9998\n",
            "Epoch 39/100\n",
            "78748/78748 [==============================] - 9s 108us/step - loss: 0.0010 - accuracy: 0.9998\n",
            "Epoch 40/100\n",
            "78748/78748 [==============================] - 8s 108us/step - loss: 0.0011 - accuracy: 0.9998\n",
            "Epoch 41/100\n",
            "78748/78748 [==============================] - 9s 108us/step - loss: 0.0010 - accuracy: 0.9998\n",
            "Epoch 42/100\n",
            "78748/78748 [==============================] - 8s 107us/step - loss: 0.0011 - accuracy: 0.9998\n",
            "Epoch 43/100\n",
            "78748/78748 [==============================] - 8s 105us/step - loss: 0.0010 - accuracy: 0.9998\n",
            "Epoch 44/100\n",
            "78748/78748 [==============================] - 8s 108us/step - loss: 0.0011 - accuracy: 0.9998\n",
            "Epoch 45/100\n",
            "78748/78748 [==============================] - 8s 106us/step - loss: 0.0011 - accuracy: 0.9998\n",
            "Epoch 46/100\n",
            "78748/78748 [==============================] - 8s 105us/step - loss: 0.0010 - accuracy: 0.9998\n",
            "Epoch 47/100\n",
            "78748/78748 [==============================] - 8s 107us/step - loss: 0.0010 - accuracy: 0.9998\n",
            "Epoch 48/100\n",
            "78748/78748 [==============================] - 8s 107us/step - loss: 0.0014 - accuracy: 0.9998\n",
            "Epoch 49/100\n",
            "78748/78748 [==============================] - 9s 109us/step - loss: 9.7752e-04 - accuracy: 0.9998\n",
            "Epoch 50/100\n",
            "78748/78748 [==============================] - 9s 110us/step - loss: 0.0010 - accuracy: 0.9998\n",
            "Epoch 51/100\n",
            "78748/78748 [==============================] - 9s 119us/step - loss: 0.0011 - accuracy: 0.9998\n",
            "Epoch 52/100\n",
            "78748/78748 [==============================] - 9s 121us/step - loss: 0.0011 - accuracy: 0.9998\n",
            "Epoch 53/100\n",
            "78748/78748 [==============================] - 9s 109us/step - loss: 0.0010 - accuracy: 0.9998\n",
            "Epoch 54/100\n",
            "78748/78748 [==============================] - 9s 117us/step - loss: 0.0010 - accuracy: 0.9998\n",
            "Epoch 55/100\n",
            "78748/78748 [==============================] - 9s 114us/step - loss: 0.0011 - accuracy: 0.9998\n",
            "Epoch 56/100\n",
            "78748/78748 [==============================] - 8s 107us/step - loss: 0.0011 - accuracy: 0.9998\n",
            "Epoch 57/100\n",
            "78748/78748 [==============================] - 9s 108us/step - loss: 0.0014 - accuracy: 0.9998\n",
            "Epoch 58/100\n",
            "78748/78748 [==============================] - 9s 110us/step - loss: 0.0010 - accuracy: 0.9998\n",
            "Epoch 59/100\n",
            "78748/78748 [==============================] - 8s 107us/step - loss: 0.0011 - accuracy: 0.9998\n",
            "Epoch 60/100\n",
            "78748/78748 [==============================] - 8s 105us/step - loss: 0.0011 - accuracy: 0.9998\n",
            "Epoch 61/100\n",
            "78748/78748 [==============================] - 8s 107us/step - loss: 0.0010 - accuracy: 0.9998\n",
            "Epoch 62/100\n",
            "78748/78748 [==============================] - 8s 107us/step - loss: 0.0011 - accuracy: 0.9998\n",
            "Epoch 63/100\n",
            "78748/78748 [==============================] - 9s 110us/step - loss: 0.0011 - accuracy: 0.9998\n",
            "Epoch 64/100\n",
            "78748/78748 [==============================] - 9s 112us/step - loss: 0.0013 - accuracy: 0.9998\n",
            "Epoch 65/100\n",
            "78748/78748 [==============================] - 9s 113us/step - loss: 0.0012 - accuracy: 0.9998\n",
            "Epoch 66/100\n",
            "78748/78748 [==============================] - 9s 110us/step - loss: 0.0011 - accuracy: 0.9998\n",
            "Epoch 67/100\n",
            "78748/78748 [==============================] - 9s 109us/step - loss: 0.0011 - accuracy: 0.9998\n",
            "Epoch 68/100\n",
            "78748/78748 [==============================] - 9s 108us/step - loss: 0.0012 - accuracy: 0.9998\n",
            "Epoch 69/100\n",
            "78748/78748 [==============================] - 8s 107us/step - loss: 0.0011 - accuracy: 0.9998\n",
            "Epoch 70/100\n",
            "78748/78748 [==============================] - 8s 107us/step - loss: 0.0010 - accuracy: 0.9998\n",
            "Epoch 71/100\n",
            "78748/78748 [==============================] - 8s 106us/step - loss: 0.0011 - accuracy: 0.9998\n",
            "Epoch 72/100\n",
            "78748/78748 [==============================] - 9s 108us/step - loss: 0.0011 - accuracy: 0.9998\n",
            "Epoch 73/100\n",
            "78748/78748 [==============================] - 9s 114us/step - loss: 0.0010 - accuracy: 0.9998\n",
            "Epoch 74/100\n",
            "78748/78748 [==============================] - 8s 107us/step - loss: 0.0010 - accuracy: 0.9998\n",
            "Epoch 75/100\n",
            "78748/78748 [==============================] - 8s 108us/step - loss: 0.0011 - accuracy: 0.9998\n",
            "Epoch 76/100\n",
            "78748/78748 [==============================] - 8s 108us/step - loss: 0.0010 - accuracy: 0.9998\n",
            "Epoch 77/100\n",
            "78748/78748 [==============================] - 9s 108us/step - loss: 0.0013 - accuracy: 0.9998\n",
            "Epoch 78/100\n",
            "78748/78748 [==============================] - 9s 110us/step - loss: 0.0011 - accuracy: 0.9998\n",
            "Epoch 79/100\n",
            "78748/78748 [==============================] - 9s 110us/step - loss: 0.0011 - accuracy: 0.9998\n",
            "Epoch 80/100\n",
            "78748/78748 [==============================] - 8s 107us/step - loss: 0.0012 - accuracy: 0.9998\n",
            "Epoch 81/100\n",
            "78748/78748 [==============================] - 8s 107us/step - loss: 0.0011 - accuracy: 0.9998\n",
            "Epoch 82/100\n",
            "78748/78748 [==============================] - 8s 107us/step - loss: 0.0011 - accuracy: 0.9998\n",
            "Epoch 83/100\n",
            "78748/78748 [==============================] - 9s 109us/step - loss: 0.0011 - accuracy: 0.9998\n",
            "Epoch 84/100\n",
            "78748/78748 [==============================] - 9s 109us/step - loss: 0.0011 - accuracy: 0.9998\n",
            "Epoch 85/100\n",
            "78748/78748 [==============================] - 9s 109us/step - loss: 0.0011 - accuracy: 0.9998\n",
            "Epoch 86/100\n",
            "78748/78748 [==============================] - 8s 107us/step - loss: 0.0011 - accuracy: 0.9998\n",
            "Epoch 87/100\n",
            "78748/78748 [==============================] - 9s 116us/step - loss: 0.0011 - accuracy: 0.9998\n",
            "Epoch 88/100\n",
            "78748/78748 [==============================] - 9s 115us/step - loss: 0.0011 - accuracy: 0.9998\n",
            "Epoch 89/100\n",
            "78748/78748 [==============================] - 9s 111us/step - loss: 0.0010 - accuracy: 0.9998\n",
            "Epoch 90/100\n",
            "78748/78748 [==============================] - 9s 112us/step - loss: 0.0011 - accuracy: 0.9998\n",
            "Epoch 91/100\n",
            "78748/78748 [==============================] - 9s 111us/step - loss: 0.0010 - accuracy: 0.9998\n",
            "Epoch 92/100\n",
            "78748/78748 [==============================] - 8s 107us/step - loss: 0.0011 - accuracy: 0.9998\n",
            "Epoch 93/100\n",
            "78748/78748 [==============================] - 9s 108us/step - loss: 0.0010 - accuracy: 0.9998\n",
            "Epoch 94/100\n",
            "78748/78748 [==============================] - 8s 108us/step - loss: 0.0014 - accuracy: 0.9998\n",
            "Epoch 95/100\n",
            "78748/78748 [==============================] - 8s 106us/step - loss: 0.0011 - accuracy: 0.9998\n",
            "Epoch 96/100\n",
            "78748/78748 [==============================] - 8s 105us/step - loss: 0.0010 - accuracy: 0.9998\n",
            "Epoch 97/100\n",
            "78748/78748 [==============================] - 9s 109us/step - loss: 0.0011 - accuracy: 0.9998\n",
            "Epoch 98/100\n",
            "78748/78748 [==============================] - 8s 106us/step - loss: 0.0011 - accuracy: 0.9998\n",
            "Epoch 99/100\n",
            "78748/78748 [==============================] - 9s 109us/step - loss: 0.0010 - accuracy: 0.9998\n",
            "Epoch 100/100\n",
            "78748/78748 [==============================] - 8s 106us/step - loss: 0.0010 - accuracy: 0.9998\n"
          ],
          "name": "stdout"
        },
        {
          "output_type": "execute_result",
          "data": {
            "text/plain": [
              "<keras.callbacks.callbacks.History at 0x7f2207abb7b8>"
            ]
          },
          "metadata": {
            "tags": []
          },
          "execution_count": 39
        }
      ]
    },
    {
      "cell_type": "code",
      "metadata": {
        "colab_type": "code",
        "id": "E743OcflsZjt",
        "colab": {}
      },
      "source": [
        "# predicting the test set results, returns probability\n",
        "Y_pred = classifier.predict(X_test)"
      ],
      "execution_count": 42,
      "outputs": []
    },
    {
      "cell_type": "code",
      "metadata": {
        "id": "1pejoPJyTJAo",
        "colab_type": "code",
        "colab": {}
      },
      "source": [
        "# threshold of what is T, What is F\n",
        "Y_pred = (Y_pred > 0.5)"
      ],
      "execution_count": 43,
      "outputs": []
    },
    {
      "cell_type": "code",
      "metadata": {
        "colab_type": "code",
        "id": "DucPieeWsZjy",
        "colab": {}
      },
      "source": [
        "# validate, need in forms of T/F\n",
        "from sklearn.metrics import confusion_matrix\n",
        "cm = confusion_matrix(Y_test, Y_pred)\n",
        "# accuracy on the data that the model has not seen"
      ],
      "execution_count": 44,
      "outputs": []
    },
    {
      "cell_type": "code",
      "metadata": {
        "id": "x1BkpCdPajPk",
        "colab_type": "code",
        "colab": {
          "base_uri": "https://localhost:8080/",
          "height": 52
        },
        "outputId": "afa26e0d-a324-4a44-c100-f8a4b88dd8c6"
      },
      "source": [
        "cm"
      ],
      "execution_count": 45,
      "outputs": [
        {
          "output_type": "execute_result",
          "data": {
            "text/plain": [
              "array([[ 8880,     2],\n",
              "       [    0, 10806]])"
            ]
          },
          "metadata": {
            "tags": []
          },
          "execution_count": 45
        }
      ]
    }
  ]
}